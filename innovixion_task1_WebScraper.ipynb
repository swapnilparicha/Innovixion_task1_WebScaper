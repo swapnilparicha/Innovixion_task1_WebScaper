{
 "cells": [
  {
   "cell_type": "code",
   "execution_count": 1,
   "id": "a13469f7",
   "metadata": {},
   "outputs": [
    {
     "name": "stdout",
     "output_type": "stream",
     "text": [
      "Title: APPLE iPhone 15 (Black, 128 GB)\n",
      "Price: ₹79,900\n",
      "Review & Ratings: Ratings & Reviews\n"
     ]
    }
   ],
   "source": [
    "import requests\n",
    "from bs4 import BeautifulSoup\n",
    "\n",
    "url = \"https://www.flipkart.com/apple-iphone-15-black-128-gb/p/itm6ac6485515ae4?pid=MOBGTAGPTB3VS24W&lid=LSTMOBGTAGPTB3VS24WA2I5RG&marketplace=FLIPKART&q=iphone+15&store=tyy%2F4io&srno=s_1_1&otracker=search&otracker1=search&fm=Search&iid=fbea5f04-427a-4d7a-8953-9f36b134d938.MOBGTAGPTB3VS24W.SEARCH&ppt=sp&ppn=sp&ssid=lpht008feo0000001700214029839&qH=2f54b45b321e3ae5\"\n",
    "response = requests.get(url)\n",
    "soup = BeautifulSoup(response.content, \"html.parser\")\n",
    "\n",
    "# Extract the title of the product on the webpage\n",
    "title = soup.find_all('span',{\"class\":\"B_NuCI\"})\n",
    "\n",
    "# Extract the price of the product on the webpage\n",
    "price=soup.find_all(\"div\",{\"class\":\"_30jeq3 _16Jk6d\"})\n",
    "\n",
    "#extract the review & rating of the product on the webpage\n",
    "review=soup.find_all(\"div\",{\"class\":\"_2QKOHZ\"})\n",
    "\n",
    "# Print the extracted information\n",
    "\n",
    "for item in title:\n",
    "    print('Title:',item.text)\n",
    "   \n",
    "for pr in price:\n",
    "    print('Price:',pr.text)\n",
    "\n",
    "for rvw in review:\n",
    "    print('Review & Ratings:',rvw.text)"
   ]
  },
  {
   "cell_type": "code",
   "execution_count": null,
   "id": "24b7e8e5",
   "metadata": {},
   "outputs": [],
   "source": []
  }
 ],
 "metadata": {
  "kernelspec": {
   "display_name": "Python 3 (ipykernel)",
   "language": "python",
   "name": "python3"
  },
  "language_info": {
   "codemirror_mode": {
    "name": "ipython",
    "version": 3
   },
   "file_extension": ".py",
   "mimetype": "text/x-python",
   "name": "python",
   "nbconvert_exporter": "python",
   "pygments_lexer": "ipython3",
   "version": "3.11.4"
  }
 },
 "nbformat": 4,
 "nbformat_minor": 5
}
